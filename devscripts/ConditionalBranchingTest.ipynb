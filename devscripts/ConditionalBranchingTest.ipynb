{
 "cells": [
  {
   "cell_type": "code",
   "execution_count": 1,
   "metadata": {},
   "outputs": [],
   "source": [
    "import argparse\n",
    "from backstage import errors, fileChecker\n",
    "from backstage import stimuli, responses, trialTemplates, procedure, praat\n",
    "from backstage import studyParser, languageParser,blockParser\n",
    "import os\n",
    "\n",
    "current_dir = os.getcwd()"
   ]
  },
  {
   "cell_type": "code",
   "execution_count": null,
   "metadata": {},
   "outputs": [],
   "source": []
  },
  {
   "cell_type": "code",
   "execution_count": 2,
   "metadata": {},
   "outputs": [],
   "source": [
    "study_input_file = current_dir+'/exp1/study_design_cbtest.csv'\n",
    "language_input_file = current_dir+'/exp1/input_language_test.csv'"
   ]
  },
  {
   "cell_type": "code",
   "execution_count": 3,
   "metadata": {},
   "outputs": [],
   "source": [
    "studyInfo = studyParser.readStduy(study_input_file)"
   ]
  },
  {
   "cell_type": "code",
   "execution_count": 4,
   "metadata": {},
   "outputs": [
    {
     "name": "stdout",
     "output_type": "stream",
     "text": [
      "afcsurvey\n",
      "[['AFCSurvey', '', '', '', '', '', '', '', '', '', '', 'branch', 'match', 'A: Welcome1; B:null', '', '', ''], ['Question2', 'Do you like me?', 'YES,NO', 'NO', '', '', '', '', '', '', '', '', '', '', '', '', ''], ['Question1', 'Is English your native language?', 'YES,NO', 'YES', '', '', '', '', '', '', '', 'trigger', 'A:YES; B:NO', '', '', '', '']]\n",
      "\n",
      "\n",
      "learn 1\n",
      "[['Learn 1', 'repeat2', 'nouns', 'image', '', '', '', '', '', '', '', '', '', '', '', '', ''], ['Instructions', 'TBD. Learn 1', '', '', '', '', '', '', '', '', '', '', '', '', '', '', ''], ['ref', '', '', '', '', '', '', '', '', '', '', '', '', '', '', '', ''], ['chef', '', '', '', '', '', '', '', '', '', '', '', '', '', '', '', ''], ['bandit', '', '', '', '', '', '', '', '', '', '', '', '', '', '', '', ''], ['end_block', '', '', '', '', '', '', '', '', '', '', '', '', '', '', '', '']]\n",
      "\n",
      "\n",
      "learn 3\n",
      "[['Learn 3', '', 'phrase', 'image', '', '', '', '', '', '', '', '', '', '', '', '', ''], ['Instructions', 'TBD. Learn 3.', '', '', '', '', '', '', '', '', '', '', '', '', '', '', ''], ['RefOnRedSkateboard', '', '', '', '', 'pre,post', '', '', '', '', '', '', '', '', '', '', ''], ['ChefUnderTable', '', '', '', '', 'post,pre', '', '', '', '', '', '', '', '', '', '', ''], ['end_block', '', '', '', '', '', '', '', '', '', '', '', '', '', '', '', '']]\n",
      "\n",
      "\n",
      "understand 1\n",
      "[['Understand 1', 'repeat2', 'nouns', 'image', 'TRUE', '', '', 'FB', '', '', '', 'branch', 'accuracy:0.8', 'success: Understand 3, Speak 2;fail:null', '', '', ''], ['Instructions', 'TBD. Learn 1', '', '', '', '', '', '', '', '', '', '', '', '', '', '', ''], ['ref', '', '', '', '', '', '', '', '', 'chef', '', 'triger', '', '', '', '', ''], ['chef', '', '', '', '', '', '', '', '', 'ref2;bandit', '', 'triger', '', '', '', '', ''], ['bandit', '', '', '', '', '', '', '', '', 'ref;ref2;ref3', '', '', '', '', '', '', ''], ['end_block', '', '', '', '', '', '', '', '', '', '', '', '', '', '', '', '']]\n",
      "\n",
      "\n",
      "understand 3\n",
      "[['Understand 3', '', 'phrase', 'image', 'TRUE', '#adposition, nominal?', '', 'FB', '', '', '', 'subbranch', '', '', '', '', ''], ['Instructions', 'TBD. Learn 3.', '', '', '', '', '', '', '', '', '', '', '', '', '', '', ''], ['RefOnRedSkateboard', '', '', '', '', 'pre,post', '', '', '', 'ChefUnderTable;chef;bandit', '', '', '', '', '', '', ''], ['ChefUnderTable', '', '', '', '', 'post,pre', '', '', '', 'ChefUnderTable;chef', '', '', '', '', '', '', ''], ['end_block', '', '', '', '', '', '', '', '', '', '', '', '', '', '', '', '']]\n",
      "\n",
      "\n",
      "speak 2\n",
      "[['speak 2', '', 'phrase', 'image', '', '', '', 'NFB', '', '', 'prompt', 'subbranch', '', '', '', '', ''], ['Instructions', 'TBD. Learn 3.', '', '', '', '', '', '', '', '', '', '', '', '', '', '', ''], ['RefOnRedSkateboard', '', '', '', '', 'pre,post', '', '', '', '', 'ref', '', '', '', '', '', ''], ['ChefUnderTable', '', '', '', '', 'post,pre', '', '', '', '', 'chef', '', '', '', '', '', ''], ['end_block', '', '', '', '', '', '', '', '', '', '', '', '', '', '', '', '']]\n",
      "\n",
      "\n",
      "welcome 1\n",
      "[['Welcome 1', '', '', '', '', '', '', '', '', '', '', '', '', '', '', '', ''], ['Instructions', 'Thank you for taking the test!', '', '', '', '', '', '', '', '', '', '', '', '', '', '', '']]\n",
      "\n",
      "\n"
     ]
    }
   ],
   "source": [
    "for bk in studyInfo['Blocks']:\n",
    "    print(bk)\n",
    "    print(studyInfo['Blocks'][bk])\n",
    "    print('\\n')"
   ]
  },
  {
   "cell_type": "code",
   "execution_count": 5,
   "metadata": {},
   "outputs": [],
   "source": [
    "blocks = studyInfo['Blocks']"
   ]
  },
  {
   "cell_type": "code",
   "execution_count": 6,
   "metadata": {},
   "outputs": [
    {
     "name": "stdout",
     "output_type": "stream",
     "text": [
      "['Understand 1', 'repeat2', 'nouns', 'image', 'TRUE', '', '', 'FB', '', '', '', 'branch', 'accuracy:0.8', 'success: Understand 3, Speak 2;fail:null', '', '', '']\n"
     ]
    }
   ],
   "source": [
    "print(blocks['understand 1'][0])"
   ]
  },
  {
   "cell_type": "code",
   "execution_count": 7,
   "metadata": {},
   "outputs": [],
   "source": [
    "language = languageParser.main(language_input_file)"
   ]
  },
  {
   "cell_type": "code",
   "execution_count": 8,
   "metadata": {},
   "outputs": [
    {
     "name": "stdout",
     "output_type": "stream",
     "text": [
      "Text ['Session 1', 'List 1', 'Grammar 1']\n",
      "['branch', ['match'], OrderedDict([('A', ['welcome1']), ('B', [])]), [{'afcsurvey_Question1': 'YES_NO_target_YES'}], {'A': ['YES'], 'B': ['NO']}]\n",
      "[]\n",
      "[]\n",
      "['branch', ['accuracy', '0.8'], OrderedDict([('success', ['understand3', 'speak2']), ('fail', [])]), [{'understand1_Nouns_trial_1_ref': 'ref_img_chef_img'}, {'understand1_Nouns_trial_2_chef': 'chef_img_ref2_img_bandit_img'}], {}]\n",
      "['subbranch']\n",
      "['subbranch']\n",
      "[]\n"
     ]
    }
   ],
   "source": [
    "blockParser.blockProcessor(studyInfo)"
   ]
  },
  {
   "cell_type": "code",
   "execution_count": 10,
   "metadata": {},
   "outputs": [
    {
     "name": "stdout",
     "output_type": "stream",
     "text": [
      "['TextCheck', 'afcsurvey', OrderedDict([('A', ['welcome1']), ('B', [])]), 'learn1', 'learn3', 'understand1', OrderedDict([('success', ['understand3', 'speak2']), ('fail', [])]), 'welcome1']\n"
     ]
    }
   ],
   "source": [
    "print(blockParser.procedure.block_seq)"
   ]
  },
  {
   "cell_type": "code",
   "execution_count": null,
   "metadata": {},
   "outputs": [],
   "source": [
    "for b in blocks['understand 1'][0][12].split(\";\"):\n",
    "    print(b)\n",
    "    con,bs = b.split(\":\")\n",
    "    print(con)\n",
    "    print(bs.split(','))"
   ]
  },
  {
   "cell_type": "code",
   "execution_count": null,
   "metadata": {},
   "outputs": [],
   "source": [
    "def bracnhesReform(branches):\n",
    "\tbranchlist = branches.split(';')\n",
    "\tbranchdict = {}\n",
    "\tfor b in branchlist:\n",
    "\t\tcon, bs = b.split(\":\")\n",
    "\t\tcon = ''.join(con.split())\n",
    "\t\tif bs.lower() in ['none','null','no','']:\n",
    "\t\t\tbrans = []\n",
    "\t\telse:\n",
    "\t\t\tbrans =[''.join(i.lower().split()) for i in  bs.split(',')]\n",
    "\t\tbranchdict[con] = brans\n",
    "\treturn branchdict"
   ]
  },
  {
   "cell_type": "code",
   "execution_count": null,
   "metadata": {},
   "outputs": [],
   "source": [
    "bracnhesReform(blocks['understand 1'][0][12])"
   ]
  },
  {
   "cell_type": "code",
   "execution_count": null,
   "metadata": {},
   "outputs": [],
   "source": [
    "def conditionsReform(branches):\n",
    "\tbranchlist = branches.split(';')\n",
    "\tbranchdict = {}\n",
    "\tfor b in branchlist:\n",
    "\t\tcon, bs = b.split(\":\")\n",
    "\t\tcon = ''.join(con.split())\n",
    "\t\tbranchdict[con] = [bs]\n",
    "\treturn branchdict"
   ]
  },
  {
   "cell_type": "code",
   "execution_count": null,
   "metadata": {},
   "outputs": [],
   "source": [
    "conditionsReform(\"A:YES;B:NO\")"
   ]
  },
  {
   "cell_type": "code",
   "execution_count": null,
   "metadata": {},
   "outputs": [],
   "source": [
    "from collections import OrderedDict"
   ]
  },
  {
   "cell_type": "code",
   "execution_count": null,
   "metadata": {},
   "outputs": [],
   "source": []
  },
  {
   "cell_type": "code",
   "execution_count": null,
   "metadata": {},
   "outputs": [],
   "source": []
  }
 ],
 "metadata": {
  "kernelspec": {
   "display_name": "Python 3",
   "language": "python",
   "name": "python3"
  },
  "language_info": {
   "codemirror_mode": {
    "name": "ipython",
    "version": 3
   },
   "file_extension": ".py",
   "mimetype": "text/x-python",
   "name": "python",
   "nbconvert_exporter": "python",
   "pygments_lexer": "ipython3",
   "version": "3.7.3"
  }
 },
 "nbformat": 4,
 "nbformat_minor": 2
}
